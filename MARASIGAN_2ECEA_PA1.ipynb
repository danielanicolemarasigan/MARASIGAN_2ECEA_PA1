{
 "cells": [
  {
   "cell_type": "markdown",
   "id": "29a0d879-e3db-4f9c-9bc7-607b4b1f2944",
   "metadata": {},
   "source": [
    "ALPHABET SOUP PROBLEM"
   ]
  },
  {
   "cell_type": "code",
   "execution_count": 32,
   "id": "6611f3dc-c6f3-46ff-881d-ac12c1be57c0",
   "metadata": {},
   "outputs": [
    {
     "name": "stdin",
     "output_type": "stream",
     "text": [
      "Enter a word:  hello\n"
     ]
    },
    {
     "name": "stdout",
     "output_type": "stream",
     "text": [
      "['e', 'h', 'l', 'l', 'o']\n"
     ]
    }
   ],
   "source": [
    "p = input(\"Enter a word: \")\n",
    "alphabet_soup = list(p)\n",
    "alphabet_soup.sort()\n",
    "\n",
    "print(alphabet_soup)"
   ]
  },
  {
   "cell_type": "markdown",
   "id": "cfaaa07a-0ba0-4357-b052-aeac1913ecef",
   "metadata": {},
   "source": [
    "EMOTICON PROBLEM"
   ]
  },
  {
   "cell_type": "code",
   "execution_count": 35,
   "id": "abc5275f-bdc6-413d-9da3-6b6e5b0930ad",
   "metadata": {},
   "outputs": [
    {
     "name": "stdout",
     "output_type": "stream",
     "text": [
      "I am so >:(\n",
      "Make me :D\n",
      "I love to :)\n",
      "It's okay to be :((\n"
     ]
    }
   ],
   "source": [
    "def emotify(sentence):\n",
    "  emoticons_dict = { \"smile\": \":)\",\"Smile\": \":)\", \"grin\": \":D\",\"Grin\": \":D\",\"sad\": \":((\", \"Sad\": \":((\", \"mad\": \">:(\", \"Mad\": \">:(\"}\n",
    "  \n",
    "  words_list = sentence.split()\n",
    "  result_list = []\n",
    "  \n",
    "  for word in words_list:\n",
    "    if word in emoticons_dict:\n",
    "      result_list.append(emoticons_dict[word])\n",
    "    else:\n",
    "      result_list.append(word)\n",
    "      \n",
    "  return \" \".join(result_list)\n",
    "    \n",
    "print(emotify(\"I am so Mad\"))\n",
    "print(emotify(\"Make me Grin\"))\n",
    "print(emotify(\"I love to smile\"))\n",
    "print(emotify(\"It's okay to be sad\"))"
   ]
  },
  {
   "cell_type": "markdown",
   "id": "4eb8e2fa-67c8-4d94-a1b1-44b0203e6c88",
   "metadata": {},
   "source": [
    "UNPACKING LIST PROBLEM"
   ]
  },
  {
   "cell_type": "code",
   "execution_count": 51,
   "id": "e5007eff-2098-4e0a-a22e-79d96a8adcea",
   "metadata": {},
   "outputs": [
    {
     "name": "stdout",
     "output_type": "stream",
     "text": [
      "first:  1\n",
      "middle:  [2, 3, 4, 5]\n",
      "last:  6\n"
     ]
    }
   ],
   "source": [
    "list = [1, 2, 3, 4, 5, 6]\n",
    "print(\"first: \" , list[0])\n",
    "print(\"middle: \", list[1:5])\n",
    "print(\"last: \", list[5])"
   ]
  },
  {
   "cell_type": "code",
   "execution_count": null,
   "id": "f4a13c17-949e-477f-98b6-152d8af09282",
   "metadata": {},
   "outputs": [],
   "source": []
  }
 ],
 "metadata": {
  "kernelspec": {
   "display_name": "Python 3 (ipykernel)",
   "language": "python",
   "name": "python3"
  },
  "language_info": {
   "codemirror_mode": {
    "name": "ipython",
    "version": 3
   },
   "file_extension": ".py",
   "mimetype": "text/x-python",
   "name": "python",
   "nbconvert_exporter": "python",
   "pygments_lexer": "ipython3",
   "version": "3.13.5"
  }
 },
 "nbformat": 4,
 "nbformat_minor": 5
}
